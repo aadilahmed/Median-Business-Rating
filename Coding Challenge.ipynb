{
 "cells": [
  {
   "cell_type": "code",
   "execution_count": 5,
   "metadata": {
    "collapsed": false
   },
   "outputs": [],
   "source": [
    "def median_sort(businesses):\n",
    "    businesses = sorted(businesses, key=lambda x: x['rating'])\n",
    "    length = len(businesses)\n",
    "    length = int(length/2)\n",
    "    \n",
    "    if(length%2 == 0):\n",
    "        return (businesses[length-1]['rating'] + businesses[length]['rating']) / 2\n",
    "    else:\n",
    "        return businesses[length]['rating']"
   ]
  },
  {
   "cell_type": "code",
   "execution_count": 6,
   "metadata": {
    "collapsed": false
   },
   "outputs": [
    {
     "name": "stdout",
     "output_type": "stream",
     "text": [
      "2.5\n"
     ]
    }
   ],
   "source": [
    "businesses = [{'id':100, 'rating':1},{'id':101, 'rating':3},{'id':102, 'rating':4},{'id':103, 'rating':2}]\n",
    "\n",
    "median = median_sort(businesses)\n",
    "\n",
    "print(median)"
   ]
  }
 ],
 "metadata": {
  "anaconda-cloud": {},
  "kernelspec": {
   "display_name": "Python [conda root]",
   "language": "python",
   "name": "conda-root-py"
  },
  "language_info": {
   "codemirror_mode": {
    "name": "ipython",
    "version": 3
   },
   "file_extension": ".py",
   "mimetype": "text/x-python",
   "name": "python",
   "nbconvert_exporter": "python",
   "pygments_lexer": "ipython3",
   "version": "3.5.2"
  }
 },
 "nbformat": 4,
 "nbformat_minor": 1
}
